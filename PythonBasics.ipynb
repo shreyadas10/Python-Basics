{
  "nbformat": 4,
  "nbformat_minor": 0,
  "metadata": {
    "colab": {
      "provenance": []
    },
    "kernelspec": {
      "name": "python3",
      "display_name": "Python 3"
    },
    "language_info": {
      "name": "python"
    }
  },
  "cells": [
    {
      "cell_type": "markdown",
      "source": [
        "1. What is Python, and why is it popular?   \n",
        "\n",
        "  -> Python is a high-level programming language and is popular because :-\n",
        "\n",
        "  - ease of use : python is easy to learn, write, read and debug because of its simple and consistent syntax.\n",
        "\n",
        "  - Versatility: Python is used for a wide range of applications, including web development, data analysis, artificial intelligence, and more.\n",
        "\n",
        "  - Libraries: Python's standard library is very extensive, offering a wide range of facilities\n",
        "\n",
        "\n",
        "\n",
        "\n",
        "\n",
        "\n"
      ],
      "metadata": {
        "id": "GJmblZMi2qyW"
      }
    },
    {
      "cell_type": "markdown",
      "source": [
        "2. What is an interpreter in Python ?\n",
        "\n",
        " -> In Python, an interpreter is a program that directly executes the Python code, line by line.The interpreter reads the Python code, analyzes it, and then performs the desired actions.\n"
      ],
      "metadata": {
        "id": "R-URUeOv83xA"
      }
    },
    {
      "cell_type": "markdown",
      "source": [
        "3. What are pre-defined keywords in Python?\n",
        "\n",
        " -> In Python, pre-defined keywords are reserved words that have special meanings and cannot be used as variable names or identifiers. Some examples are :- if, else, and,def, return etc.\n"
      ],
      "metadata": {
        "id": "Wd5VbBgTBE7s"
      }
    },
    {
      "cell_type": "markdown",
      "source": [
        "4. Can keywords be used as variable names ?\n",
        "\n",
        " -> No, keywords in Python cannot be used as variable names. Keywords are reserved words that have special meanings in Python, and using them as variable names would cause a syntax error.\n"
      ],
      "metadata": {
        "id": "TJVJHLP6CBJs"
      }
    },
    {
      "cell_type": "markdown",
      "source": [
        "5. What is mutability in Python ?\n",
        "\n",
        " -> In Python, mutability refers to the ability of an object to change its state or value after it has been created. In other words, a mutable object can be modified. Examples of mutable objects in python are :-\n",
        "\n",
        " - Lists : Elements can be added,removed  and modify after the list has been created\n",
        "\n",
        " - Dictionary : Dictionaries are mutable, allowing  to add, remove, or modify key-value pairs.\n"
      ],
      "metadata": {
        "id": "rrNTmAxJCekC"
      }
    },
    {
      "cell_type": "markdown",
      "source": [
        "6. Why are lists mutable, but tuples are immutable ?\n",
        "\n",
        "  -> Lists are mutable because they're designed for dynamic data storage and manipulation. They need to be able to grow, shrink, and change elements.\n",
        "\n",
        "Tuples, on the other hand, are immutable because they're designed for fixed, static data storage. They're optimized for memory efficiency and speed."
      ],
      "metadata": {
        "id": "q1NrNmIqD8lU"
      }
    },
    {
      "cell_type": "markdown",
      "source": [
        "7. What is the difference between “==” and “is” operators in Python ?\n",
        "\n",
        "  -> In Python both are two distinct operators used for comparison :-\n",
        "\n",
        "  -> EQUALITY OPERATOR (==)\n",
        "     - Checks if the values of two variables are equal.\n",
        "     - Compares the contents of the variables.\n",
        "     - Returns True if the values are equal, False otherwise.\n",
        "\n",
        "  -> IDENTITY OPERATOR (is)\n",
        "  - Checks if two variables refer to the same object in memory.\n",
        "  - Compares the memory locations of the variables.\n",
        "  - Returns True if both variables point to the same object, False otherwise.\n",
        "\n"
      ],
      "metadata": {
        "id": "jyI68HRhDl0d"
      }
    },
    {
      "cell_type": "markdown",
      "source": [
        "8. What are logical operators in Python ?\n",
        "\n",
        " -> In Python, logical operators are keywords that combine multiple conditions to evaluate them as a single boolean expression. Logical operators are also known as Boolean operators.\n",
        "\n",
        " - and: Returns True if both conditions are true, otherwise it returns False\n",
        "\n",
        " - or: Returns True if one of the conditions is true\n",
        "\n",
        " - not: Inverts the truth value of a boolean expression or object"
      ],
      "metadata": {
        "id": "Ikz2H8vkFMit"
      }
    },
    {
      "cell_type": "markdown",
      "source": [
        "9. What is type casting in Python?\n",
        "\n",
        " -> It is the process of changing a variable's data type from one to another. It's also known as type conversion.\n",
        "\n",
        " -> Type casting is important because it allows for more flexible data manipulation and operations within a program. It also ensures that different data types are compatible.\n",
        "\n",
        " -> There are two types of type casting in Python:\n",
        "   - Implicit Type Casting and\n",
        "   - Explicit Type Casting\n"
      ],
      "metadata": {
        "id": "M-LKPaG-G-b-"
      }
    },
    {
      "cell_type": "markdown",
      "source": [
        "10. What is the difference between implicit and explicit type casting ?\n",
        "\n",
        "  -> IMPLICIT TYPE CASTING\n",
        "\n",
        "   - occurs automatically when Python encounters an operation that involves different data types. For example:\n",
        "\n",
        "      a = 5\n",
        "      b = 3.5\n",
        "      print(a + b)  # Output: 8.5\n",
        "\n",
        "  - In this example, python automatically is converting the varibale \"a\" from an integer to a float value.\n",
        "\n",
        "  -> EXPLICIT TYPE CASTING\n",
        "\n",
        "   -  occurs when the user manually convert a variable or value from one data type to another using casting functions. For example :\n",
        "\n",
        "   - int(): Converts a value to an integer.\n",
        "   - float(): Converts a value to a float.\n",
        "\n",
        "  a = 5.5\n",
        "  print(int(a))  # Output: 5\n",
        "  print(float(a))  # Output: 5.5"
      ],
      "metadata": {
        "id": "spDnFVYzIXe-"
      }
    },
    {
      "cell_type": "markdown",
      "source": [
        "11.  What is the purpose of conditional statements in Python ?\n",
        "\n",
        "  -> Conditional statements are a fundamental part of programming in Python. It control the flow of a program by allowing it to make decisions based on certain conditions.\n",
        "\n",
        "  - if: Executes a block of code if a condition is true\n",
        "\n",
        "  - else: Executes a different block of code if the if condition is false\n",
        "  \n",
        "  - elif: Checks multiple conditions in sequence and executes different code blocks depending on which condition is true"
      ],
      "metadata": {
        "id": "JJiG5taBKKxu"
      }
    },
    {
      "cell_type": "markdown",
      "source": [
        "12. How does the elif statement work ?\n",
        "\n",
        " -> In Python, elif is short for \"else if\" and is used when the first 'if' statement isn't true. It allows you to check multiple conditions and execute different blocks of code accordingly."
      ],
      "metadata": {
        "id": "y5oBeqqTLQ7f"
      }
    },
    {
      "cell_type": "markdown",
      "source": [
        "13. What is the difference between for and while loops ?\n",
        "  \n",
        "  -> The main difference between a for loop and a while loop is that a for loop is used when the number of iterations is known, while a while loop is used when the number of iterations is unknown."
      ],
      "metadata": {
        "id": "TUITGHLyML2Y"
      }
    },
    {
      "cell_type": "markdown",
      "source": [
        "14. Describe a scenario where a while loop is more suitable than a for loop ?\n",
        "\n",
        "  -> A while loop is more suitable when the number of iterations is unknown, such as in a game where the player's score determines the number of levels to be played."
      ],
      "metadata": {
        "id": "TjrmCN-mMkI9"
      }
    },
    {
      "cell_type": "markdown",
      "source": [
        "# PRACTICAL QUESTIONS"
      ],
      "metadata": {
        "id": "2HTAQgOeNvLm"
      }
    },
    {
      "cell_type": "markdown",
      "source": [
        "1. Write a Python program to print \"Hello, World!\""
      ],
      "metadata": {
        "id": "NTnpI5jTOOhv"
      }
    },
    {
      "cell_type": "code",
      "source": [
        "print(\"Hello,World!\")"
      ],
      "metadata": {
        "id": "6kOniqJbB8ma",
        "colab": {
          "base_uri": "https://localhost:8080/"
        },
        "outputId": "f65127bd-f980-4e93-cc93-383ae2c2bdfd"
      },
      "execution_count": null,
      "outputs": [
        {
          "output_type": "stream",
          "name": "stdout",
          "text": [
            "Hello,World!\n"
          ]
        }
      ]
    },
    {
      "cell_type": "markdown",
      "source": [
        "2. Write a Python program that displays your name and age"
      ],
      "metadata": {
        "id": "uepYDJVFPA82"
      }
    },
    {
      "cell_type": "code",
      "source": [
        "name = \"shreya\"\n",
        "age = 20\n",
        "\n",
        "print(f\"my name is {name} and my age is {age}\")"
      ],
      "metadata": {
        "colab": {
          "base_uri": "https://localhost:8080/"
        },
        "id": "gYVHg1zKPDXU",
        "outputId": "64d2f9a9-4047-44c1-a68e-6d57fd56b063"
      },
      "execution_count": null,
      "outputs": [
        {
          "output_type": "stream",
          "name": "stdout",
          "text": [
            "my name is shreya and my age is 20\n"
          ]
        }
      ]
    },
    {
      "cell_type": "markdown",
      "source": [
        "3. Write code to print all the pre-defined keywords in Python using the keyword library"
      ],
      "metadata": {
        "id": "QjITkukNPgvH"
      }
    },
    {
      "cell_type": "code",
      "source": [
        "import keyword\n",
        "\n",
        "print(\"Python Keywords:\")\n",
        "for kw in keyword.kwlist:\n",
        "    print(kw)"
      ],
      "metadata": {
        "colab": {
          "base_uri": "https://localhost:8080/"
        },
        "id": "1GOh2esqPoc-",
        "outputId": "cdb09d12-661d-41c5-dab1-f7ac74a5459e"
      },
      "execution_count": null,
      "outputs": [
        {
          "output_type": "stream",
          "name": "stdout",
          "text": [
            "Python Keywords:\n",
            "False\n",
            "None\n",
            "True\n",
            "and\n",
            "as\n",
            "assert\n",
            "async\n",
            "await\n",
            "break\n",
            "class\n",
            "continue\n",
            "def\n",
            "del\n",
            "elif\n",
            "else\n",
            "except\n",
            "finally\n",
            "for\n",
            "from\n",
            "global\n",
            "if\n",
            "import\n",
            "in\n",
            "is\n",
            "lambda\n",
            "nonlocal\n",
            "not\n",
            "or\n",
            "pass\n",
            "raise\n",
            "return\n",
            "try\n",
            "while\n",
            "with\n",
            "yield\n"
          ]
        }
      ]
    },
    {
      "cell_type": "markdown",
      "source": [
        "4. Write a program that checks if a given word is a Python keyword"
      ],
      "metadata": {
        "id": "jPJ568ggQk1g"
      }
    },
    {
      "cell_type": "code",
      "source": [
        "import keyword\n",
        "\n",
        "word = input(\"enter a word : \")\n",
        "\n",
        "if keyword.iskeyword(word):\n",
        "  print(\"It is a python keyword\")\n",
        "else :\n",
        "  print(\"It is not a python keyword\")"
      ],
      "metadata": {
        "colab": {
          "base_uri": "https://localhost:8080/"
        },
        "id": "8p0XNpVPQrWl",
        "outputId": "34024401-a989-43fa-c1e1-c652cb6a5b34"
      },
      "execution_count": null,
      "outputs": [
        {
          "output_type": "stream",
          "name": "stdout",
          "text": [
            "enter a word : return\n",
            "It is a python keyword\n"
          ]
        }
      ]
    },
    {
      "cell_type": "markdown",
      "source": [
        "5. Create a list and tuple in Python, and demonstrate how attempting to change an element works differently\n",
        "for each"
      ],
      "metadata": {
        "id": "FjjVbCxDSdGg"
      }
    },
    {
      "cell_type": "code",
      "source": [
        "lst = [1,2,3,4]\n",
        "tple = (1,2,3,4)\n",
        "\n",
        "# changing elements in both list and tuple\n",
        "lst[0] = 9\n",
        "print(lst) # modification of a list is successful because list is mutable\n",
        "\n",
        "tple[0] = 8  # throws an error\n",
        "print(tple) # modification of a tuple is unsuccessful because tuple is immutable"
      ],
      "metadata": {
        "colab": {
          "base_uri": "https://localhost:8080/"
        },
        "id": "r8Uw48dyShjs",
        "outputId": "97d30293-e8c6-42a8-e5bc-f30f9fcb5234"
      },
      "execution_count": null,
      "outputs": [
        {
          "output_type": "stream",
          "name": "stdout",
          "text": [
            "[9, 2, 3, 4]\n"
          ]
        }
      ]
    },
    {
      "cell_type": "markdown",
      "source": [
        "6. Write a function to demonstrate the behavior of mutable and immutable arguments\n"
      ],
      "metadata": {
        "id": "9KRKYzT1VTdZ"
      }
    },
    {
      "cell_type": "code",
      "source": [
        "def modify_args(x, y):\n",
        "    x = x + 1\n",
        "    y.append(4)\n",
        "\n",
        "x = 5\n",
        "y = [1, 2, 3]\n",
        "print(\"Before modification:\", x, y)\n",
        "modify_args(x, y)\n",
        "print(\"After modification:\", x, y)"
      ],
      "metadata": {
        "colab": {
          "base_uri": "https://localhost:8080/"
        },
        "id": "vJmaZe0hhZU8",
        "outputId": "00a1a7a0-f213-4fa7-929c-767c54f462ad"
      },
      "execution_count": null,
      "outputs": [
        {
          "output_type": "stream",
          "name": "stdout",
          "text": [
            "Before modification: 5 [1, 2, 3]\n",
            "After modification: 5 [1, 2, 3, 4]\n"
          ]
        }
      ]
    },
    {
      "cell_type": "markdown",
      "source": [
        "7. Write a function to demonstrate the behavior of mutable and immutable arguments\n",
        "\n",
        "[REPEATED QUESTION]"
      ],
      "metadata": {
        "id": "_ZD0IDjEh2Sg"
      }
    },
    {
      "cell_type": "markdown",
      "source": [
        "8. Write a program to demonstrate the use of logical operators"
      ],
      "metadata": {
        "id": "dWru-tUhiTW2"
      }
    },
    {
      "cell_type": "code",
      "source": [
        "#AND operator\n",
        "\n",
        "age = int(input(\"enter your age : \"))\n",
        "\n",
        "if age >= 18 and age <=60:\n",
        "  print(\"eligible for a job \")\n",
        "else:\n",
        "  print(\"not eligible\")\n",
        "\n",
        "# OR operator\n",
        "nationality = input(\"enter your nationality : \").lower()\n",
        "\n",
        "if nationality ==\"indian\" or nationality == \"nepali\":\n",
        "  print(\"eligible to join the Indian Army\")\n",
        "else:\n",
        "  print(\"not eligible\")\n",
        "\n",
        "\n",
        "#NOT operator\n",
        "\n",
        "is_gender =\"female\"\n",
        "print(\"gender:\",is_gender)\n",
        "\n",
        "if not is_gender:\n",
        "  print(\"you are not eligible for scolarship\")\n",
        "else:\n",
        "  print(\"eligible for scolarship\")\n"
      ],
      "metadata": {
        "colab": {
          "base_uri": "https://localhost:8080/"
        },
        "id": "YaE2HJiYiVoD",
        "outputId": "78b4342c-ffb7-4536-febe-d9815dd55c1d"
      },
      "execution_count": null,
      "outputs": [
        {
          "output_type": "stream",
          "name": "stdout",
          "text": [
            "enter your age : 25\n",
            "eligible for a job \n",
            "enter your nationality : nepali\n",
            "eligible to join the Indian Army\n",
            "gender:  female\n",
            "eligible for scolarship\n"
          ]
        }
      ]
    },
    {
      "cell_type": "markdown",
      "source": [
        "9. Write a Python program to convert user input from string to integer, float, and boolean types"
      ],
      "metadata": {
        "id": "4PSTgx8LF3pl"
      }
    },
    {
      "cell_type": "code",
      "source": [
        "user_input = \"4\"\n",
        "\n",
        "int_value = int(user_input)\n",
        "float_value = float(user_input)\n",
        "bool_value = bool(user_input)\n",
        "\n",
        "print(f\"integer value of  {user_input} is {int_value}\")\n",
        "print(f\"float value of  {user_input} is {float_value}\")\n",
        "print(f\"bool value of  {user_input} is {bool_value}\")\n",
        "\n"
      ],
      "metadata": {
        "colab": {
          "base_uri": "https://localhost:8080/"
        },
        "id": "GWpSYUmpF7yd",
        "outputId": "1003384d-39ea-4134-84b0-b8c0c8d1af16"
      },
      "execution_count": null,
      "outputs": [
        {
          "output_type": "stream",
          "name": "stdout",
          "text": [
            "integer value of  4 is 4\n",
            "float value of  4 is 4.0\n",
            "bool value of  4 is True\n"
          ]
        }
      ]
    },
    {
      "cell_type": "markdown",
      "source": [
        "10. Write code to demonstrate type casting with list elements"
      ],
      "metadata": {
        "id": "zaELLvoJIqVB"
      }
    },
    {
      "cell_type": "code",
      "source": [
        "int_lst = [4,5,8,0]\n",
        "\n",
        "str_lst = [str(l) for l in int_lst]\n",
        "print(\"Converted Integer list to String list :- \", str_lst)\n",
        "\n",
        "float_lst = [float(l) for l in int_lst]\n",
        "print(\"Converted Integer list to Float list :-\", float_lst)\n",
        "\n",
        "bool_lst = [bool(l) for l in int_lst]\n",
        "print(\"Converted Integer list to Boolean list :-\", bool_lst)\n"
      ],
      "metadata": {
        "colab": {
          "base_uri": "https://localhost:8080/"
        },
        "id": "ipIjgjY_IwGO",
        "outputId": "76774c69-8171-4214-f832-a94b43dc7cb7"
      },
      "execution_count": null,
      "outputs": [
        {
          "output_type": "stream",
          "name": "stdout",
          "text": [
            "Converted Integer list to String list :-  ['4', '5', '8', '0']\n",
            "Converted Integer list to Float list :- [4.0, 5.0, 8.0, 0.0]\n",
            "Converted Integer list to Boolean list :- [True, True, True, False]\n"
          ]
        }
      ]
    },
    {
      "cell_type": "markdown",
      "source": [
        "11. Write a program that checks if a number is positive, negative, or zero\n"
      ],
      "metadata": {
        "id": "q8a9ClnFPaIV"
      }
    },
    {
      "cell_type": "code",
      "source": [
        "number = (input(\"enter any number : \"))\n",
        "\n",
        "try:\n",
        "    if int(number)== 0:\n",
        "     print(\"the number is 0\")\n",
        "    elif int(number )> 0:\n",
        "     print(\"the number is positive\")\n",
        "    elif int(number) < 0:\n",
        "     print(\"the number is negative\")\n",
        "\n",
        "except ValueError:\n",
        "    print(\"Invalid input, please enter a number\")\n"
      ],
      "metadata": {
        "colab": {
          "base_uri": "https://localhost:8080/"
        },
        "id": "7aB1rSho_6ab",
        "outputId": "ae30999b-2409-4a07-b21c-0666d0375094"
      },
      "execution_count": null,
      "outputs": [
        {
          "output_type": "stream",
          "name": "stdout",
          "text": [
            "enter any number : 1\n",
            "the number is positive\n"
          ]
        }
      ]
    },
    {
      "cell_type": "markdown",
      "source": [
        "12. Write a for loop to print numbers from 1 to 10"
      ],
      "metadata": {
        "id": "949NYoCGAPCW"
      }
    },
    {
      "cell_type": "code",
      "source": [
        "for i in range(1,11):\n",
        "  print(i, end=',')"
      ],
      "metadata": {
        "colab": {
          "base_uri": "https://localhost:8080/"
        },
        "id": "lofTzK6yCW41",
        "outputId": "6edf0551-10f3-4317-f001-581355afb07f"
      },
      "execution_count": null,
      "outputs": [
        {
          "output_type": "stream",
          "name": "stdout",
          "text": [
            "1,2,3,4,5,6,7,8,9,10,"
          ]
        }
      ]
    },
    {
      "cell_type": "markdown",
      "source": [
        "13. Write a Python program to find the sum of all even numbers between 1 and 50"
      ],
      "metadata": {
        "id": "9Fl5H2h0C-p5"
      }
    },
    {
      "cell_type": "code",
      "source": [
        "sum = 0\n",
        "for i in range(1,51):\n",
        "    if i %2 ==0:\n",
        "        sum += i\n",
        "\n",
        "print(sum)"
      ],
      "metadata": {
        "colab": {
          "base_uri": "https://localhost:8080/"
        },
        "id": "Ug_FVzFWDHvb",
        "outputId": "c9d55a06-d803-432d-e7bb-829f5d84089a"
      },
      "execution_count": null,
      "outputs": [
        {
          "output_type": "stream",
          "name": "stdout",
          "text": [
            "650\n"
          ]
        }
      ]
    },
    {
      "cell_type": "markdown",
      "source": [
        "14. Write a program to reverse a string using a while loop"
      ],
      "metadata": {
        "id": "t-kUNorvEum2"
      }
    },
    {
      "cell_type": "code",
      "source": [
        "word = \"january\"\n",
        "reverse_str = ''\n",
        "length = len(word)\n",
        "\n",
        "while length>0:\n",
        "    reverse_str += word[length -1]\n",
        "    length -=1\n",
        "\n",
        "print(reverse_str)\n",
        "\n"
      ],
      "metadata": {
        "id": "21fr0QHYE0Mw",
        "colab": {
          "base_uri": "https://localhost:8080/"
        },
        "outputId": "b3d7345d-2900-4ed9-dbc9-58b62988c97e"
      },
      "execution_count": 1,
      "outputs": [
        {
          "output_type": "stream",
          "name": "stdout",
          "text": [
            "yraunaj\n"
          ]
        }
      ]
    },
    {
      "cell_type": "markdown",
      "source": [
        "15. Write a Python program to calculate the factorial of a number provided by the user using a while loop."
      ],
      "metadata": {
        "id": "EwwQ2Z6NlEkk"
      }
    },
    {
      "cell_type": "code",
      "source": [
        "num = int(input(\"enter a number: \"))\n",
        "\n",
        "if num <=0:\n",
        "    print(f\"factorial of {num} is not defined\")\n",
        "else:\n",
        "    factorial = 1\n",
        "    i = 1\n",
        "    while i <=num :\n",
        "        factorial *= i\n",
        "        i+= 1\n",
        "    print(f'the factorial of {num} is',factorial)"
      ],
      "metadata": {
        "colab": {
          "base_uri": "https://localhost:8080/"
        },
        "id": "buSu6dojlH-k",
        "outputId": "def754b7-2129-43d2-ccbc-65af83f8df50"
      },
      "execution_count": 2,
      "outputs": [
        {
          "output_type": "stream",
          "name": "stdout",
          "text": [
            "enter a number: 6\n",
            "the factorial of 6 is 720\n"
          ]
        }
      ]
    }
  ]
}